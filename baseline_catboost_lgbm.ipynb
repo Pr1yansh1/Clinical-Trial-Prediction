{
 "cells": [
  {
   "cell_type": "code",
   "execution_count": 1,
   "id": "eafc844c",
   "metadata": {},
   "outputs": [],
   "source": [
    "import torch, os\n",
    "torch.manual_seed(0) \n",
    "import warnings;warnings.filterwarnings(\"ignore\")\n",
    "from HINT.dataloader import csv_three_feature_2_dataloader, generate_admet_dataloader_lst\n",
    "from HINT.molecule_encode import MPNN, ADMET\n",
    "from HINT.icdcode_encode import GRAM, build_icdcode2ancestor_dict\n",
    "from HINT.protocol_encode import Protocol_Embedding\n",
    "from HINT.model import HINTModel \n",
    "device = torch.device(\"cpu\")  ## cuda:0\n",
    "if not os.path.exists(\"figure\"):\n",
    "    os.makedirs(\"figure\")\n",
    "    \n",
    "import numpy as np\n",
    "import pandas as pd\n",
    "import matplotlib.pyplot as plt\n",
    "import time"
   ]
  },
  {
   "cell_type": "code",
   "execution_count": 2,
   "id": "02802f87",
   "metadata": {},
   "outputs": [],
   "source": [
    "### data-provider datasets\n",
    "base_name = 'phase_I' ### 'toy', 'phase_I', 'phase_II', 'phase_III', 'indication'\n",
    "datafolder = \"data\" ### '/data/clinical-trial-outcome-prediction/data/'\n",
    "train_file = os.path.join(datafolder, base_name + '_train.csv')\n",
    "valid_file = os.path.join(datafolder, base_name + '_valid.csv')\n",
    "test_file = os.path.join(datafolder, base_name + '_test.csv')\n",
    "\n",
    "train_loader = csv_three_feature_2_dataloader(train_file, shuffle=True, batch_size=32) \n",
    "valid_loader = csv_three_feature_2_dataloader(valid_file, shuffle=False, batch_size=32) \n",
    "test_loader = csv_three_feature_2_dataloader(test_file, shuffle=False, batch_size=32) "
   ]
  },
  {
   "cell_type": "code",
   "execution_count": 3,
   "id": "254c39df-87e7-42ed-adb0-41f27a2a0cac",
   "metadata": {},
   "outputs": [],
   "source": [
    "# ### Leo's datasets\n",
    "# base_name = 'phase_II_cancer' ### 'cancer', 'digest', 'infection', 'nervous', 'respiratory'\n",
    "# datafolder = \"/data/clinical-trial-outcome-prediction/data/\"\n",
    "# train_file = os.path.join(datafolder, base_name + '_train.csv')\n",
    "# valid_file = os.path.join(datafolder, base_name + '_valid.csv')\n",
    "# test_file = os.path.join(datafolder, base_name + '_test.csv')\n",
    "\n",
    "# train_loader = csv_three_feature_2_dataloader(train_file, shuffle=True, batch_size=32) \n",
    "# valid_loader = csv_three_feature_2_dataloader(valid_file, shuffle=False, batch_size=32) \n",
    "# test_loader = csv_three_feature_2_dataloader(test_file, shuffle=False, batch_size=32) "
   ]
  },
  {
   "cell_type": "code",
   "execution_count": 3,
   "id": "81433d8a",
   "metadata": {},
   "outputs": [],
   "source": [
    "mpnn_model = MPNN(mpnn_hidden_size = 50, mpnn_depth=3, device = device)\n",
    "icdcode2ancestor_dict = build_icdcode2ancestor_dict()\n",
    "gram_model = GRAM(embedding_dim = 50, icdcode2ancestor = icdcode2ancestor_dict, device = device)\n",
    "protocol_model = Protocol_Embedding(output_dim = 50, highway_num=3, device = device)\n",
    "\n",
    "molecule_encoder = mpnn_model\n",
    "disease_encoder = gram_model\n",
    "protocol_encoder = protocol_model"
   ]
  },
  {
   "cell_type": "code",
   "execution_count": 4,
   "id": "5764f988",
   "metadata": {},
   "outputs": [],
   "source": [
    "def get_embed(dataloader):\n",
    "    nctid_lst, label_lst, smiles_lst2, icdcode_lst3, criteria_lst = [], [], [], [], []\n",
    "    for nctid, label, smiles, icdcode, criteria in dataloader:\n",
    "        nctid_lst.extend(nctid)\n",
    "        label_lst.extend([i.item() for i in label])\n",
    "        smiles_lst2.extend(smiles)\n",
    "        icdcode_lst3.extend(icdcode)\n",
    "        criteria_lst.extend(criteria)\n",
    "        \n",
    "    molecule_embed = molecule_encoder.forward_smiles_lst_lst(smiles_lst2)\n",
    "    icd_embed = disease_encoder.forward_code_lst3(icdcode_lst3)\n",
    "    protocol_embed = protocol_encoder.forward(criteria_lst)\n",
    "    print(molecule_embed.shape, icd_embed.shape, protocol_embed.shape)\n",
    "    return molecule_embed, icd_embed, protocol_embed"
   ]
  },
  {
   "cell_type": "code",
   "execution_count": 5,
   "id": "f53a4095",
   "metadata": {},
   "outputs": [],
   "source": [
    "def preprocess(file, loader):\n",
    "    df = pd.read_csv(file)\n",
    "    df.drop(['phase', 'why_stop'], axis=1, inplace=True)\n",
    "    df.drop(['icdcodes', 'smiless', 'criteria'], axis=1, inplace=True)\n",
    "    df.drop(['diseases', 'drugs'], axis=1, inplace=True) ## FE later\n",
    "    \n",
    "    molecule_embed, icd_embed, protocol_embed = get_embed(loader)\n",
    "\n",
    "    molecule_df = pd.DataFrame(molecule_embed.detach().numpy(), columns=[f'molecule_feature_{i}' for i in range(len(molecule_embed[0]))])\n",
    "    icd_df = pd.DataFrame(icd_embed.detach().numpy(), columns=[f'icd_feature_{i}' for i in range(len(icd_embed[0]))])\n",
    "    protocol_df = pd.DataFrame(protocol_embed.detach().numpy(), columns=[f'protocol_feature_{i}' for i in range(len(protocol_embed[0]))])\n",
    "\n",
    "    df = pd.concat([df, molecule_df, icd_df, protocol_df], axis=1)\n",
    "    return df"
   ]
  },
  {
   "cell_type": "code",
   "execution_count": 6,
   "id": "1832c9bb",
   "metadata": {},
   "outputs": [
    {
     "name": "stdout",
     "output_type": "stream",
     "text": [
      "torch.Size([1044, 50]) torch.Size([1044, 50]) torch.Size([1044, 50])\n",
      "torch.Size([117, 50]) torch.Size([117, 50]) torch.Size([117, 50])\n",
      "torch.Size([627, 50]) torch.Size([627, 50]) torch.Size([627, 50])\n",
      "(1044, 153) (117, 153) (627, 153)\n"
     ]
    }
   ],
   "source": [
    "train_df = preprocess(train_file, train_loader)\n",
    "valid_df = preprocess(valid_file, valid_loader)\n",
    "test_df = preprocess(test_file, test_loader)\n",
    "print(train_df.shape, valid_df.shape, test_df.shape)"
   ]
  },
  {
   "cell_type": "code",
   "execution_count": 7,
   "id": "8d70d8b6",
   "metadata": {},
   "outputs": [
    {
     "name": "stdout",
     "output_type": "stream",
     "text": [
      "(1044, 151) (117, 151) (627, 151)\n"
     ]
    }
   ],
   "source": [
    "X_train, y_train = train_df.drop(['nctid','label'], axis=1), train_df['label']  \n",
    "X_valid, y_valid = valid_df.drop(['nctid','label'], axis=1), valid_df['label']  \n",
    "X_test, y_test = test_df.drop(['nctid','label'], axis=1), test_df['label']  \n",
    "print(X_train.shape, X_valid.shape, X_test.shape)"
   ]
  },
  {
   "cell_type": "code",
   "execution_count": 10,
   "id": "fd87cd8c",
   "metadata": {},
   "outputs": [
    {
     "data": {
      "text/plain": [
       "status                 0\n",
       "icd_feature_44         0\n",
       "icd_feature_46         0\n",
       "icd_feature_47         0\n",
       "icd_feature_48         0\n",
       "                      ..\n",
       "icd_feature_0          0\n",
       "icd_feature_1          0\n",
       "icd_feature_2          0\n",
       "icd_feature_3          0\n",
       "protocol_feature_49    0\n",
       "Length: 151, dtype: int64"
      ]
     },
     "execution_count": 10,
     "metadata": {},
     "output_type": "execute_result"
    }
   ],
   "source": [
    "X_test.isnull().sum().sort_values(ascending=False)  # no missing data"
   ]
  },
  {
   "cell_type": "code",
   "execution_count": 33,
   "id": "b7036929-b042-4d8f-8dd7-b9bf63ec3a3e",
   "metadata": {},
   "outputs": [
    {
     "name": "stdout",
     "output_type": "stream",
     "text": [
      "time is  264.83298087120056\n"
     ]
    }
   ],
   "source": [
    "from catboost import CatBoostClassifier\n",
    "from sklearn.model_selection import GridSearchCV\n",
    "from sklearn.metrics import accuracy_score, roc_auc_score, f1_score, precision_recall_curve, precision_score, recall_score, auc\n",
    "\n",
    "start_time = time.time()\n",
    "# model = CatBoostClassifier(iterations=100, random_state=42)\n",
    "model = CatBoostClassifier(random_state=42)\n",
    "hyperparameters = {\n",
    "    'depth': [3, 4, 5, 6, 7],\n",
    "    'l2_leaf_reg': [1, 3, 5],\n",
    "    'iterations': [100, 200]\n",
    "}\n",
    "grid_search = GridSearchCV(model, hyperparameters, cv=5, scoring='accuracy')\n",
    "grid_search.fit(X_train, y_train, cat_features=[0], verbose=0)\n",
    "# model.fit(X_train, y_train, cat_features=[0])\n",
    "print(\"time is \", time.time()-start_time)"
   ]
  },
  {
   "cell_type": "code",
   "execution_count": 34,
   "id": "0ec9f5fe-8920-416e-93c5-f911f51ba7be",
   "metadata": {},
   "outputs": [
    {
     "name": "stdout",
     "output_type": "stream",
     "text": [
      "{'iterations': 200, 'depth': 5, 'l2_leaf_reg': 1, 'random_state': 42}\n"
     ]
    }
   ],
   "source": [
    "best_model = grid_search.best_estimator_\n",
    "best_params = best_model.get_params()\n",
    "print(best_params)"
   ]
  },
  {
   "cell_type": "code",
   "execution_count": 35,
   "id": "07235ff5",
   "metadata": {},
   "outputs": [
    {
     "name": "stdout",
     "output_type": "stream",
     "text": [
      "0.7828054298642534\n",
      "0.7703488372093024\n",
      "0.8385689354275742\n"
     ]
    }
   ],
   "source": [
    "from sklearn.metrics import accuracy_score\n",
    "model = grid_search.best_estimator_\n",
    "y_pred_train = model.predict(X_train)\n",
    "y_pred_valid = model.predict(X_valid)\n",
    "y_pred_test = model.predict(X_test)\n",
    "print(accuracy_score(y_pred_train, y_train))\n",
    "print(accuracy_score(y_pred_valid, y_valid))\n",
    "print(accuracy_score(y_pred_test, y_test))"
   ]
  },
  {
   "cell_type": "code",
   "execution_count": 13,
   "id": "4deeba31",
   "metadata": {},
   "outputs": [
    {
     "name": "stdout",
     "output_type": "stream",
     "text": [
      "Test ROC AUC: 0.832\n",
      "Test F1: 0.854\n",
      "Test PR-AUC: 0.89\n",
      "Test Precision: 0.839\n",
      "Test Recall: 0.87\n",
      "Test Accuracy: 0.836\n",
      "Test Predict 1 ratio: 0.574\n",
      "Test Label 1 ratio: 0.553\n"
     ]
    }
   ],
   "source": [
    "def print_metrics(y_true, y_pred, label):\n",
    "    print(f\"{label} ROC AUC: {round(roc_auc_score(y_true, y_pred),3)}\")\n",
    "    print(f\"{label} F1: {round(f1_score(y_true, y_pred),3)}\")\n",
    "    precision, recall, _ = precision_recall_curve(y_true, y_pred)\n",
    "    print(f\"{label} PR-AUC: {round(auc(recall, precision),3)}\")\n",
    "    print(f\"{label} Precision: {round(precision_score(y_true, y_pred),3)}\")\n",
    "    print(f\"{label} Recall: {round(recall_score(y_true, y_pred),3)}\")\n",
    "    print(f\"{label} Accuracy: {round(accuracy_score(y_true, y_pred),3)}\")\n",
    "    print(f\"{label} Predict 1 ratio: {round(sum(y_pred) / len(y_pred),3)}\")\n",
    "    print(f\"{label} Label 1 ratio: {round(sum(y_true) / len(y_true),3)}\")\n",
    "\n",
    "# print_metrics(y_train, y_pred_train, 'Train')\n",
    "# print_metrics(y_valid, y_pred_valid, 'Valid')\n",
    "print_metrics(y_test, y_pred_test, 'Test')"
   ]
  },
  {
   "cell_type": "code",
   "execution_count": 52,
   "id": "85e7436d-f4c8-4565-8994-5661e9b4632d",
   "metadata": {},
   "outputs": [],
   "source": [
    "### LightGBM"
   ]
  },
  {
   "cell_type": "code",
   "execution_count": 8,
   "id": "5a636b3f-e21b-4d2f-ac57-bf83a3393bbd",
   "metadata": {},
   "outputs": [],
   "source": [
    "X_train['status'] = X_train['status'].astype('category')\n",
    "X_valid['status'] = X_valid['status'].astype('category')\n",
    "X_test['status'] = X_test['status'].astype('category')"
   ]
  },
  {
   "cell_type": "code",
   "execution_count": 16,
   "id": "b0c53e95-0440-4c01-b197-cd81e765d3cb",
   "metadata": {},
   "outputs": [
    {
     "name": "stdout",
     "output_type": "stream",
     "text": [
      "[LightGBM] [Warning] Unknown parameter: verbose_eval\n",
      "[LightGBM] [Warning] Unknown parameter: verbose_eval\n",
      "[LightGBM] [Info] Number of positive: 592, number of negative: 452\n",
      "[LightGBM] [Warning] Auto-choosing col-wise multi-threading, the overhead of testing was 0.000856 seconds.\n",
      "You can set `force_col_wise=true` to remove the overhead.\n",
      "[LightGBM] [Info] Total Bins 23418\n",
      "[LightGBM] [Info] Number of data points in the train set: 1044, number of used features: 98\n",
      "[LightGBM] [Info] [binary:BoostFromScore]: pavg=0.567050 -> initscore=0.269824\n",
      "[LightGBM] [Info] Start training from score 0.269824\n",
      "time is  0.3997180461883545\n"
     ]
    }
   ],
   "source": [
    "import lightgbm as lgb\n",
    "from sklearn.model_selection import GridSearchCV\n",
    "from sklearn.metrics import accuracy_score, roc_auc_score, f1_score, precision_recall_curve, precision_score, recall_score, auc\n",
    "\n",
    "start_time = time.time()\n",
    "model = lgb.LGBMClassifier(n_estimators=100, random_state=42, verbose_eval=-1)\n",
    "# model = lgb.LGBMClassifier(random_state=42)\n",
    "# hyperparameters = {\n",
    "#     'learning_rate': [0.05, 0.1, 0.15],\n",
    "#     'max_depth': [3, 4, 5, 6, 7],\n",
    "#     'num_leaves': [31, 63],\n",
    "#     'n_estimators': [100, 200]\n",
    "# }\n",
    "# grid_search = GridSearchCV(model, hyperparameters, cv=5, scoring='accuracy')\n",
    "# grid_search.fit(X_train, y_train)\n",
    "model.fit(X_train, y_train)\n",
    "print(\"time is \", time.time()-start_time)"
   ]
  },
  {
   "cell_type": "code",
   "execution_count": 10,
   "id": "d1972d90-c604-43ac-9d1d-0d4f49da8b3d",
   "metadata": {},
   "outputs": [
    {
     "name": "stdout",
     "output_type": "stream",
     "text": [
      "{'boosting_type': 'gbdt', 'class_weight': None, 'colsample_bytree': 1.0, 'importance_type': 'split', 'learning_rate': 0.05, 'max_depth': 3, 'min_child_samples': 20, 'min_child_weight': 0.001, 'min_split_gain': 0.0, 'n_estimators': 100, 'n_jobs': None, 'num_leaves': 31, 'objective': None, 'random_state': 42, 'reg_alpha': 0.0, 'reg_lambda': 0.0, 'subsample': 1.0, 'subsample_for_bin': 200000, 'subsample_freq': 0}\n"
     ]
    }
   ],
   "source": [
    "best_model = grid_search.best_estimator_\n",
    "best_params = best_model.get_params()\n",
    "print(best_params)"
   ]
  },
  {
   "cell_type": "code",
   "execution_count": 17,
   "id": "782afe4a-d9d0-48a9-af15-0c8862954bf3",
   "metadata": {},
   "outputs": [
    {
     "name": "stdout",
     "output_type": "stream",
     "text": [
      "[LightGBM] [Warning] Unknown parameter: verbose_eval\n",
      "[LightGBM] [Warning] Unknown parameter: verbose_eval\n",
      "[LightGBM] [Warning] Unknown parameter: verbose_eval\n",
      "0.9894636015325671\n",
      "0.7863247863247863\n",
      "0.8437001594896332\n"
     ]
    }
   ],
   "source": [
    "# model = grid_search.best_estimator_\n",
    "y_pred_train = model.predict(X_train)\n",
    "y_pred_valid = model.predict(X_valid)\n",
    "y_pred_test = model.predict(X_test)\n",
    "print(accuracy_score(y_pred_train, y_train))\n",
    "print(accuracy_score(y_pred_valid, y_valid))\n",
    "print(accuracy_score(y_pred_test, y_test))"
   ]
  },
  {
   "cell_type": "code",
   "execution_count": 18,
   "id": "480bba21-746e-43fb-a135-199b458b4e93",
   "metadata": {},
   "outputs": [
    {
     "name": "stdout",
     "output_type": "stream",
     "text": [
      "Test ROC AUC: 0.839\n",
      "Test F1: 0.862\n",
      "Test PR-AUC: 0.895\n",
      "Test Precision: 0.843\n",
      "Test Recall: 0.882\n",
      "Test Accuracy: 0.844\n",
      "Test Predict 1 ratio: 0.579\n",
      "Test Label 1 ratio: 0.553\n"
     ]
    }
   ],
   "source": [
    "# print_metrics(y_train, y_pred_train, 'Train')\n",
    "# print_metrics(y_valid, y_pred_valid, 'Valid')\n",
    "print_metrics(y_test, y_pred_test, 'Test')"
   ]
  }
 ],
 "metadata": {
  "kernelspec": {
   "display_name": "Python 3 (ipykernel)",
   "language": "python",
   "name": "python3"
  },
  "language_info": {
   "codemirror_mode": {
    "name": "ipython",
    "version": 3
   },
   "file_extension": ".py",
   "mimetype": "text/x-python",
   "name": "python",
   "nbconvert_exporter": "python",
   "pygments_lexer": "ipython3",
   "version": "3.10.12"
  }
 },
 "nbformat": 4,
 "nbformat_minor": 5
}
